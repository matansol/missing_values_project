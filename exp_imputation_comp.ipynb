{
 "cells": [
  {
   "cell_type": "code",
   "execution_count": 28,
   "metadata": {},
   "outputs": [
    {
     "name": "stdout",
     "output_type": "stream",
     "text": [
      "The autoreload extension is already loaded. To reload it, use:\n",
      "  %reload_ext autoreload\n"
     ]
    }
   ],
   "source": [
    "%load_ext autoreload\n",
    "%autoreload 2\n",
    "\n",
    "import pandas as pd\n",
    "import numpy as np\n",
    "from tqdm.auto import tqdm\n",
    "\n",
    "from sklearn.experimental import enable_iterative_imputer  # noqa\n",
    "from sklearn.impute import SimpleImputer, KNNImputer, IterativeImputer\n",
    "from sklearn.ensemble import RandomForestRegressor\n",
    "from sklearn.impute import IterativeImputer, SimpleImputer\n",
    "from sklearn.linear_model import BayesianRidge, LinearRegression\n",
    "from sklearn.neighbors import KNeighborsRegressor\n",
    "from sklearn.model_selection import cross_val_score, train_test_split\n",
    "\n",
    "from missingness import MissingnessParams, apply_missingness\n",
    "from datasets import get_dataset"
   ]
  },
  {
   "cell_type": "code",
   "execution_count": null,
   "metadata": {},
   "outputs": [],
   "source": [
    "def generate_params(X, n_trials=10):\n",
    "    strategies = ['basic', 'double_threshold', 'range_condition', 'nonlinear']\n",
    "    missing_rates = [0.1*i for i in range(1, 10)]\n",
    "    for i in range(n_trials):\n",
    "        target = np.random.choice(X.columns)\n",
    "        cond1, cond2 = np.random.choice(X.drop(columns=[target]).columns, 2)\n",
    "        seed = np.random.randint(0, 1000)\n",
    "        for missing_rate in missing_rates:\n",
    "            for strategy in strategies:\n",
    "                condition_feature = cond1 if strategy != 'double_threshold' else [cond1, cond2]\n",
    "                yield MissingnessParams(\n",
    "                    mechanism='MAR',\n",
    "                    strategy=strategy,\n",
    "                    random_state=seed,\n",
    "                    target_feature=target,\n",
    "                    missing_rate=missing_rate,\n",
    "                    condition_feature=condition_feature\n",
    "                )\n",
    "            yield MissingnessParams(\n",
    "                mechanism='MCAR',\n",
    "                strategy='none',\n",
    "                random_state=seed,\n",
    "                target_feature=target,\n",
    "                missing_rate=missing_rate,\n",
    "                condition_feature=None\n",
    "            )\n",
    "\n",
    "def run_exp(ds_name):\n",
    "    results = []\n",
    "    df, label = get_dataset(ds_name)\n",
    "    X, y = df.drop(columns=[label]), df[label]\n",
    "    imputators = {\n",
    "        'drop rows': None,\n",
    "        'simple w/ mean': SimpleImputer(strategy='mean'),\n",
    "        'simple w/ zero': SimpleImputer(strategy='constant', fill_value=0),\n",
    "        'knn': KNNImputer(),\n",
    "        'iterative w/ br': IterativeImputer(estimator=BayesianRidge(), sample_posterior=True),\n",
    "        'iterative w/ knn': IterativeImputer(estimator=KNeighborsRegressor()),\n",
    "        'iterative w/ lr': IterativeImputer(estimator=LinearRegression()),\n",
    "    }\n",
    "    \n",
    "    for i, params in enumerate(tqdm(generate_params(X), total=10*9*5)):\n",
    "        try:\n",
    "            X_missing = apply_missingness(X, params)\n",
    "\n",
    "            for impute_name, imputer in tqdm(imputators.items(), leave=False):\n",
    "                if impute_name == 'drop rows':\n",
    "                    X_imputed = X_missing.dropna(axis=0)\n",
    "                    y_imputed = y[X_imputed.index]\n",
    "                else:\n",
    "                    X_imputed = imputer.fit_transform(X_missing)\n",
    "                    y_imputed = y\n",
    "                X_train, X_test, y_train, y_test = train_test_split(X_imputed, y_imputed, test_size=0.2, random_state=params.random_state)\n",
    "                acc = RandomForestRegressor().fit(X_train, y_train).score(X_test, y_test)\n",
    "                results.append({'acc': acc,\n",
    "                                'impute': impute_name,\n",
    "                                **params.__dict__})\n",
    "        except Exception as e:\n",
    "            print(e)\n",
    "            continue\n",
    "\n",
    "    results = pd.DataFrame(results)\n",
    "    results.to_csv(f\"{ds_name}_imputation_results.csv\", index=False)\n",
    "    return results"
   ]
  },
  {
   "cell_type": "code",
   "execution_count": 30,
   "metadata": {},
   "outputs": [
    {
     "name": "stdout",
     "output_type": "stream",
     "text": [
      "Warning: Looks like you're using an outdated `kagglehub` version (installed: 0.3.8), please consider upgrading to the latest version (0.3.10).\n"
     ]
    },
    {
     "name": "stderr",
     "output_type": "stream",
     "text": [
      "  0%|          | 0/450 [00:00<?, ?it/s]"
     ]
    },
    {
     "name": "stdout",
     "output_type": "stream",
     "text": [
      "0\n"
     ]
    },
    {
     "name": "stderr",
     "output_type": "stream",
     "text": []
    },
    {
     "name": "stdout",
     "output_type": "stream",
     "text": [
      "drop rows\n"
     ]
    },
    {
     "name": "stderr",
     "output_type": "stream",
     "text": []
    },
    {
     "name": "stdout",
     "output_type": "stream",
     "text": [
      "simple w/ mean\n"
     ]
    },
    {
     "name": "stderr",
     "output_type": "stream",
     "text": []
    },
    {
     "name": "stdout",
     "output_type": "stream",
     "text": [
      "simple w/ zero\n"
     ]
    },
    {
     "name": "stderr",
     "output_type": "stream",
     "text": []
    },
    {
     "name": "stdout",
     "output_type": "stream",
     "text": [
      "knn\n"
     ]
    },
    {
     "name": "stderr",
     "output_type": "stream",
     "text": []
    },
    {
     "name": "stdout",
     "output_type": "stream",
     "text": [
      "iterative w/ br\n"
     ]
    },
    {
     "name": "stderr",
     "output_type": "stream",
     "text": []
    },
    {
     "name": "stdout",
     "output_type": "stream",
     "text": [
      "iterative w/ knn\n"
     ]
    },
    {
     "name": "stderr",
     "output_type": "stream",
     "text": []
    },
    {
     "name": "stdout",
     "output_type": "stream",
     "text": [
      "iterative w/ lr\n"
     ]
    },
    {
     "name": "stderr",
     "output_type": "stream",
     "text": [
      "  0%|          | 0/450 [01:18<?, ?it/s]\n"
     ]
    },
    {
     "data": {
      "text/html": [
       "<div>\n",
       "<style scoped>\n",
       "    .dataframe tbody tr th:only-of-type {\n",
       "        vertical-align: middle;\n",
       "    }\n",
       "\n",
       "    .dataframe tbody tr th {\n",
       "        vertical-align: top;\n",
       "    }\n",
       "\n",
       "    .dataframe thead th {\n",
       "        text-align: right;\n",
       "    }\n",
       "</style>\n",
       "<table border=\"1\" class=\"dataframe\">\n",
       "  <thead>\n",
       "    <tr style=\"text-align: right;\">\n",
       "      <th></th>\n",
       "      <th>acc</th>\n",
       "      <th>impute</th>\n",
       "      <th>mechanism</th>\n",
       "      <th>strategy</th>\n",
       "      <th>random_state</th>\n",
       "      <th>target_feature</th>\n",
       "      <th>missing_rate</th>\n",
       "      <th>condition_feature</th>\n",
       "    </tr>\n",
       "  </thead>\n",
       "  <tbody>\n",
       "    <tr>\n",
       "      <th>0</th>\n",
       "      <td>0.471354</td>\n",
       "      <td>drop rows</td>\n",
       "      <td>MAR</td>\n",
       "      <td>basic</td>\n",
       "      <td>438</td>\n",
       "      <td>citric_acid</td>\n",
       "      <td>0.1</td>\n",
       "      <td>sulphates</td>\n",
       "    </tr>\n",
       "    <tr>\n",
       "      <th>1</th>\n",
       "      <td>0.454623</td>\n",
       "      <td>simple w/ mean</td>\n",
       "      <td>MAR</td>\n",
       "      <td>basic</td>\n",
       "      <td>438</td>\n",
       "      <td>citric_acid</td>\n",
       "      <td>0.1</td>\n",
       "      <td>sulphates</td>\n",
       "    </tr>\n",
       "    <tr>\n",
       "      <th>2</th>\n",
       "      <td>0.451704</td>\n",
       "      <td>simple w/ zero</td>\n",
       "      <td>MAR</td>\n",
       "      <td>basic</td>\n",
       "      <td>438</td>\n",
       "      <td>citric_acid</td>\n",
       "      <td>0.1</td>\n",
       "      <td>sulphates</td>\n",
       "    </tr>\n",
       "    <tr>\n",
       "      <th>3</th>\n",
       "      <td>0.459222</td>\n",
       "      <td>knn</td>\n",
       "      <td>MAR</td>\n",
       "      <td>basic</td>\n",
       "      <td>438</td>\n",
       "      <td>citric_acid</td>\n",
       "      <td>0.1</td>\n",
       "      <td>sulphates</td>\n",
       "    </tr>\n",
       "    <tr>\n",
       "      <th>4</th>\n",
       "      <td>0.449431</td>\n",
       "      <td>iterative w/ br</td>\n",
       "      <td>MAR</td>\n",
       "      <td>basic</td>\n",
       "      <td>438</td>\n",
       "      <td>citric_acid</td>\n",
       "      <td>0.1</td>\n",
       "      <td>sulphates</td>\n",
       "    </tr>\n",
       "    <tr>\n",
       "      <th>5</th>\n",
       "      <td>0.462843</td>\n",
       "      <td>iterative w/ knn</td>\n",
       "      <td>MAR</td>\n",
       "      <td>basic</td>\n",
       "      <td>438</td>\n",
       "      <td>citric_acid</td>\n",
       "      <td>0.1</td>\n",
       "      <td>sulphates</td>\n",
       "    </tr>\n",
       "    <tr>\n",
       "      <th>6</th>\n",
       "      <td>0.460953</td>\n",
       "      <td>iterative w/ lr</td>\n",
       "      <td>MAR</td>\n",
       "      <td>basic</td>\n",
       "      <td>438</td>\n",
       "      <td>citric_acid</td>\n",
       "      <td>0.1</td>\n",
       "      <td>sulphates</td>\n",
       "    </tr>\n",
       "  </tbody>\n",
       "</table>\n",
       "</div>"
      ],
      "text/plain": [
       "        acc            impute mechanism strategy  random_state target_feature  \\\n",
       "0  0.471354         drop rows       MAR    basic           438    citric_acid   \n",
       "1  0.454623    simple w/ mean       MAR    basic           438    citric_acid   \n",
       "2  0.451704    simple w/ zero       MAR    basic           438    citric_acid   \n",
       "3  0.459222               knn       MAR    basic           438    citric_acid   \n",
       "4  0.449431   iterative w/ br       MAR    basic           438    citric_acid   \n",
       "5  0.462843  iterative w/ knn       MAR    basic           438    citric_acid   \n",
       "6  0.460953   iterative w/ lr       MAR    basic           438    citric_acid   \n",
       "\n",
       "   missing_rate condition_feature  \n",
       "0           0.1         sulphates  \n",
       "1           0.1         sulphates  \n",
       "2           0.1         sulphates  \n",
       "3           0.1         sulphates  \n",
       "4           0.1         sulphates  \n",
       "5           0.1         sulphates  \n",
       "6           0.1         sulphates  "
      ]
     },
     "execution_count": 30,
     "metadata": {},
     "output_type": "execute_result"
    }
   ],
   "source": [
    "results = run_exp('wine')\n",
    "results"
   ]
  },
  {
   "cell_type": "code",
   "execution_count": 18,
   "metadata": {},
   "outputs": [
    {
     "name": "stdout",
     "output_type": "stream",
     "text": [
      "drop rows\n",
      "simple w/ mean\n",
      "simple w/ zero\n",
      "knn\n",
      "iterative w/ br\n",
      "iterative w/ knn\n",
      "iterative w/ lr\n"
     ]
    }
   ],
   "source": [
    "imputators = {\n",
    "        'drop rows': None,\n",
    "        'simple w/ mean': SimpleImputer(strategy='mean'),\n",
    "        'simple w/ zero': SimpleImputer(strategy='constant', fill_value=0),\n",
    "        'knn': KNNImputer(),\n",
    "        'iterative w/ br': IterativeImputer(estimator=BayesianRidge(), sample_posterior=True),\n",
    "        'iterative w/ knn': IterativeImputer(estimator=KNeighborsRegressor()),\n",
    "        'iterative w/ lr': IterativeImputer(estimator=LinearRegression()),\n",
    "    }\n",
    "for im_name, im in imputators.items():\n",
    "    print(im_name)"
   ]
  }
 ],
 "metadata": {
  "kernelspec": {
   "display_name": "env",
   "language": "python",
   "name": "python3"
  },
  "language_info": {
   "codemirror_mode": {
    "name": "ipython",
    "version": 3
   },
   "file_extension": ".py",
   "mimetype": "text/x-python",
   "name": "python",
   "nbconvert_exporter": "python",
   "pygments_lexer": "ipython3",
   "version": "3.10.12"
  }
 },
 "nbformat": 4,
 "nbformat_minor": 2
}
